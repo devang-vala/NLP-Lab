{
 "cells": [
  {
   "cell_type": "code",
   "execution_count": 1,
   "id": "85247361",
   "metadata": {},
   "outputs": [
    {
     "name": "stderr",
     "output_type": "stream",
     "text": [
      "d:\\NLP Lab\\.venv\\Lib\\site-packages\\tqdm\\auto.py:21: TqdmWarning: IProgress not found. Please update jupyter and ipywidgets. See https://ipywidgets.readthedocs.io/en/stable/user_install.html\n",
      "  from .autonotebook import tqdm as notebook_tqdm\n"
     ]
    }
   ],
   "source": [
    "from datasets import load_dataset\n",
    "import re\n",
    "\n",
    "# Load Gujarati dataset\n",
    "dataset = load_dataset(\"ai4bharat/IndicCorpV2\", \"indiccorp_v2\", split=\"guj_Gujr\", streaming=True)"
   ]
  },
  {
   "cell_type": "code",
   "execution_count": null,
   "id": "fddd8ba8",
   "metadata": {},
   "outputs": [],
   "source": [
    "import re\n",
    "\n",
    "def gujarati_sentence_tokenizer(text):\n",
    "    return re.split(r'(?<=[.!?])\\s+', text)\n",
    "\n",
    "def gujarati_word_tokenizer(text):\n",
    "    patterns = [\n",
    "        r'https?:\\/\\/(?:www\\.)?[-a-zA-Z0-9@:%._\\+~#=]{1,256}\\.[a-zA-Z0-9()]{1,6}\\b[-a-zA-Z0-9()@:%_\\+.~#?&//=]*',  # URLs\n",
    "        r'[a-zA-Z0-9._%+-]+@[a-zA-Z0-9.-]+\\.[a-zA-Z]{2,}(?:\\.[a-zA-Z]{2,})?',  # Emails  \n",
    "        r'\\d{1,2}[/-]\\d{1,2}[/-]\\d{2,4}',  # Dates\n",
    "        r'\\d+\\.\\d+',                       # Decimals\n",
    "        r'[\\u0A80-\\u0AFF]+',               # Gujarati characters (including matras)\n",
    "        r'[a-zA-Z]+',                      # English words\n",
    "        r'\\d+',                            # Numbers\n",
    "        r'[.,!?;:()\\'\"-]'                  # Punctuation (purna viram = .)\n",
    "    ]\n",
    "    return re.findall('|'.join(patterns), text)\n"
   ]
  },
  {
   "cell_type": "code",
   "execution_count": 10,
   "id": "26a8a845",
   "metadata": {},
   "outputs": [
    {
     "name": "stderr",
     "output_type": "stream",
     "text": [
      "'HTTPSConnectionPool(host='cas-bridge.xethub.hf.co', port=443): Read timed out.' thrown while requesting GET https://huggingface.co/datasets/ai4bharat/IndicCorpV2/resolve/2d7285e6ce14fdb3fb2449c9f89427b9f582ac3f/data/gu.txt\n",
      "Retrying in 1s [Retry 1/5].\n",
      "'HTTPSConnectionPool(host='cas-bridge.xethub.hf.co', port=443): Read timed out.' thrown while requesting GET https://huggingface.co/datasets/ai4bharat/IndicCorpV2/resolve/2d7285e6ce14fdb3fb2449c9f89427b9f582ac3f/data/gu.txt\n",
      "Retrying in 2s [Retry 2/5].\n",
      "'HTTPSConnectionPool(host='cas-bridge.xethub.hf.co', port=443): Read timed out.' thrown while requesting GET https://huggingface.co/datasets/ai4bharat/IndicCorpV2/resolve/2d7285e6ce14fdb3fb2449c9f89427b9f582ac3f/data/gu.txt\n",
      "Retrying in 4s [Retry 3/5].\n"
     ]
    },
    {
     "name": "stdout",
     "output_type": "stream",
     "text": [
      "Processing completed! Total examples processed: 5001\n"
     ]
    }
   ],
   "source": [
    "all_sentences = []\n",
    "all_words = []\n",
    "\n",
    "for i, example in enumerate(dataset):\n",
    "    if i >= 5000:\n",
    "        break\n",
    "        \n",
    "    text = example['text']\n",
    "    sentences = gujarati_sentence_tokenizer(text)\n",
    "    \n",
    "    for sentence in sentences:\n",
    "        if sentence.strip():\n",
    "            all_sentences.append(sentence.strip())\n",
    "            words = gujarati_word_tokenizer(sentence)\n",
    "            all_words.extend(words)\n",
    "\n",
    "print(f\"Processing completed! Total examples processed: {i + 1}\")"
   ]
  },
  {
   "cell_type": "code",
   "execution_count": 12,
   "id": "6571d383",
   "metadata": {},
   "outputs": [],
   "source": [
    "# Save tokenized sentences (each line = one sentence with space-separated tokens)\n",
    "with open('gujarati_tokenized_sentences.txt', 'w', encoding='utf-8') as f:\n",
    "    for sentence in all_sentences:\n",
    "        tokenized_words = gujarati_word_tokenizer(sentence)\n",
    "        tokenized_sentence = ' '.join(tokenized_words)\n",
    "        f.write(tokenized_sentence + '\\n')\n",
    "\n",
    "# Also save individual words for reference\n",
    "with open('gujarati_words.txt', 'w', encoding='utf-8') as f:\n",
    "    for word in all_words:\n",
    "        f.write(word + '\\n')"
   ]
  },
  {
   "cell_type": "code",
   "execution_count": 13,
   "id": "f7774a6a",
   "metadata": {},
   "outputs": [],
   "source": [
    "total_sentences = len(all_sentences)\n",
    "total_words = len(all_words)\n",
    "total_characters = sum(len(word) for word in all_words)\n",
    "\n",
    "# Calculate averages\n",
    "avg_sentence_length = total_words / total_sentences if total_sentences > 0 else 0\n",
    "avg_word_length = total_characters / total_words if total_words > 0 else 0\n",
    "\n",
    "# Calculate Type/Token Ratio\n",
    "unique_words = len(set(all_words))\n",
    "ttr = unique_words / total_words if total_words > 0 else 0"
   ]
  },
  {
   "cell_type": "code",
   "execution_count": 14,
   "id": "ea59f87f",
   "metadata": {},
   "outputs": [
    {
     "name": "stdout",
     "output_type": "stream",
     "text": [
      "GUJARATI CORPUS STATISTICS\n",
      "i.   Total sentences: 6,880\n",
      "ii.  Total words: 115,575\n",
      "iii. Total characters: 512,764\n",
      "iv.  Avg sentence length: 16.80\n",
      "v.   Avg word length: 4.44\n",
      "vi.  Type/Token Ratio: 0.2184\n"
     ]
    }
   ],
   "source": [
    "print(\"GUJARATI CORPUS STATISTICS\")\n",
    "print(f\"i.   Total sentences: {total_sentences:,}\")\n",
    "print(f\"ii.  Total words: {total_words:,}\")\n",
    "print(f\"iii. Total characters: {total_characters:,}\")\n",
    "print(f\"iv.  Avg sentence length: {avg_sentence_length:.2f}\")\n",
    "print(f\"v.   Avg word length: {avg_word_length:.2f}\")\n",
    "print(f\"vi.  Type/Token Ratio: {ttr:.4f}\")"
   ]
  }
 ],
 "metadata": {
  "kernelspec": {
   "display_name": ".venv",
   "language": "python",
   "name": "python3"
  },
  "language_info": {
   "codemirror_mode": {
    "name": "ipython",
    "version": 3
   },
   "file_extension": ".py",
   "mimetype": "text/x-python",
   "name": "python",
   "nbconvert_exporter": "python",
   "pygments_lexer": "ipython3",
   "version": "3.13.1"
  }
 },
 "nbformat": 4,
 "nbformat_minor": 5
}
