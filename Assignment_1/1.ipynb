{
 "cells": [
  {
   "cell_type": "code",
   "execution_count": 5,
   "id": "85247361",
   "metadata": {},
   "outputs": [],
   "source": [
    "from datasets import load_dataset\n",
    "import re\n",
    "import json\n",
    "\n",
    "# Load Gujarati dataset\n",
    "dataset = load_dataset(\"ai4bharat/IndicCorpV2\", \"indiccorp_v2\", split=\"guj_Gujr\", streaming=True)"
   ]
  },
  {
   "cell_type": "code",
   "execution_count": 6,
   "id": "fddd8ba8",
   "metadata": {},
   "outputs": [],
   "source": [
    "def gujarati_sentence_tokenizer(text):\n",
    "    # Split on Gujarati sentence endings (purna viram = .) and common punctuation\n",
    "    return re.split(r'(?<=[.!?])\\s+', text)\n",
    "\n",
    "def gujarati_word_tokenizer(text):\n",
    "    # Gujarati Unicode range: 0A80-0AFF, plus URLs, emails, dates, decimals\n",
    "    patterns = [\n",
    "        r'https?://\\S+',           # URLs\n",
    "        r'\\w+@\\w+\\.\\w+',           # Emails  \n",
    "        r'\\d{1,2}[/-]\\d{1,2}[/-]\\d{2,4}',  # Dates\n",
    "        r'\\d+\\.\\d+',               # Decimals\n",
    "        r'[\\u0A80-\\u0AFF]+',       # Gujarati characters (including matras)\n",
    "        r'[a-zA-Z]+',              # English words\n",
    "        r'\\d+',                    # Numbers\n",
    "        r'[.,!?;:()\\'\"\"-]'        # Punctuation (purna viram = .)\n",
    "    ]\n",
    "    return re.findall('|'.join(patterns), text)"
   ]
  },
  {
   "cell_type": "code",
   "execution_count": 12,
   "id": "26a8a845",
   "metadata": {},
   "outputs": [
    {
     "name": "stdout",
     "output_type": "stream",
     "text": [
      "Processing completed! Total examples processed: 5001\n"
     ]
    }
   ],
   "source": [
    "all_sentences = []\n",
    "all_words = []\n",
    "\n",
    "# Process limited dataset to avoid memory issues\n",
    "for i, example in enumerate(dataset):\n",
    "    if i >= 5000:  # Limit to first 5000 examples\n",
    "        break\n",
    "        \n",
    "    text = example['text']\n",
    "    sentences = gujarati_sentence_tokenizer(text)\n",
    "    \n",
    "    for sentence in sentences:\n",
    "        if sentence.strip():  # Skip empty sentences\n",
    "            all_sentences.append(sentence.strip())\n",
    "            words = gujarati_word_tokenizer(sentence)\n",
    "            all_words.extend(words)\n",
    "\n",
    "print(f\"Processing completed! Total examples processed: {i + 1}\")"
   ]
  },
  {
   "cell_type": "code",
   "execution_count": 13,
   "id": "6571d383",
   "metadata": {},
   "outputs": [],
   "source": [
    "# Save tokenized sentences (each line = one sentence with space-separated tokens)\n",
    "with open('gujarati_tokenized_sentences.txt', 'w', encoding='utf-8') as f:\n",
    "    for sentence in all_sentences:\n",
    "        tokenized_words = gujarati_word_tokenizer(sentence)\n",
    "        tokenized_sentence = ' '.join(tokenized_words)\n",
    "        f.write(tokenized_sentence + '\\n')\n",
    "\n",
    "# Also save individual words for reference\n",
    "with open('gujarati_words.txt', 'w', encoding='utf-8') as f:\n",
    "    for word in all_words:\n",
    "        f.write(word + '\\n')"
   ]
  },
  {
   "cell_type": "code",
   "execution_count": 15,
   "id": "f7774a6a",
   "metadata": {},
   "outputs": [],
   "source": [
    "total_sentences = len(all_sentences)\n",
    "total_words = len(all_words)\n",
    "total_characters = sum(len(word) for word in all_words)\n",
    "\n",
    "# Calculate averages\n",
    "avg_sentence_length = total_words / total_sentences if total_sentences > 0 else 0\n",
    "avg_word_length = total_characters / total_words if total_words > 0 else 0\n",
    "\n",
    "# Calculate Type/Token Ratio\n",
    "unique_words = len(set(all_words))\n",
    "ttr = unique_words / total_words if total_words > 0 else 0"
   ]
  },
  {
   "cell_type": "code",
   "execution_count": 16,
   "id": "ea59f87f",
   "metadata": {},
   "outputs": [
    {
     "name": "stdout",
     "output_type": "stream",
     "text": [
      "GUJARATI CORPUS STATISTICS\n",
      "i.   Total sentences: 6,880\n",
      "ii.  Total words: 115,577\n",
      "iii. Total characters: 512,764\n",
      "iv.  Avg sentence length: 16.80\n",
      "v.   Avg word length: 4.44\n",
      "vi.  Type/Token Ratio: 0.2184\n"
     ]
    }
   ],
   "source": [
    "print(\"GUJARATI CORPUS STATISTICS\")\n",
    "print(f\"i.   Total sentences: {total_sentences:,}\")\n",
    "print(f\"ii.  Total words: {total_words:,}\")\n",
    "print(f\"iii. Total characters: {total_characters:,}\")\n",
    "print(f\"iv.  Avg sentence length: {avg_sentence_length:.2f}\")\n",
    "print(f\"v.   Avg word length: {avg_word_length:.2f}\")\n",
    "print(f\"vi.  Type/Token Ratio: {ttr:.4f}\")"
   ]
  }
 ],
 "metadata": {
  "kernelspec": {
   "display_name": ".venv",
   "language": "python",
   "name": "python3"
  },
  "language_info": {
   "codemirror_mode": {
    "name": "ipython",
    "version": 3
   },
   "file_extension": ".py",
   "mimetype": "text/x-python",
   "name": "python",
   "nbconvert_exporter": "python",
   "pygments_lexer": "ipython3",
   "version": "3.13.1"
  }
 },
 "nbformat": 4,
 "nbformat_minor": 5
}
